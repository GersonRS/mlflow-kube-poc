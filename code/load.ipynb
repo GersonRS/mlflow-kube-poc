{
 "cells": [
  {
   "cell_type": "markdown",
   "id": "e7509305-8663-4cd1-9fb1-fcea3b773f28",
   "metadata": {
    "tags": []
   },
   "source": [
    "## Carregando o Modelo de Produção e Fazendo Previsões"
   ]
  },
  {
   "cell_type": "code",
   "execution_count": null,
   "id": "cf10ebe2-24e6-4327-b2ff-646ef3dfd5a6",
   "metadata": {
    "tags": []
   },
   "outputs": [],
   "source": [
    "# Install a conda package in the current Jupyter kernel\n",
    "import sys\n",
    "!conda install --yes --prefix {sys.prefix} mlflow"
   ]
  },
  {
   "cell_type": "code",
   "execution_count": null,
   "id": "461df1ba-9ebc-4e3b-ab1b-5df68e94097b",
   "metadata": {
    "tags": []
   },
   "outputs": [],
   "source": [
    "import mlflow"
   ]
  },
  {
   "cell_type": "code",
   "execution_count": null,
   "id": "2f7522d2-a2ed-44d1-a86d-08aabbe0491a",
   "metadata": {
    "tags": []
   },
   "outputs": [],
   "source": [
    "#Carregando o modelo que está em produção\n",
    "logged_model = 'models:/tutorial_mlflow/Production'\n",
    "loaded_model = mlflow.pyfunc.load_model(logged_model)"
   ]
  },
  {
   "cell_type": "code",
   "execution_count": null,
   "id": "c30bad1a-1aea-4f9b-9f2f-0504662220b5",
   "metadata": {
    "tags": []
   },
   "outputs": [],
   "source": [
    "teste = pd.read_csv('data/teste2.csv', sep=',')"
   ]
  },
  {
   "cell_type": "code",
   "execution_count": null,
   "id": "ba83a6f7-f235-4cd9-990c-703be88350f1",
   "metadata": {},
   "outputs": [],
   "source": [
    "print(loaded_model.predict(teste))"
   ]
  }
 ],
 "metadata": {
  "kernelspec": {
   "display_name": "Python 3 (ipykernel)",
   "language": "python",
   "name": "python3"
  },
  "language_info": {
   "codemirror_mode": {
    "name": "ipython",
    "version": 3
   },
   "file_extension": ".py",
   "mimetype": "text/x-python",
   "name": "python",
   "nbconvert_exporter": "python",
   "pygments_lexer": "ipython3",
   "version": "3.8.16"
  }
 },
 "nbformat": 4,
 "nbformat_minor": 5
}
