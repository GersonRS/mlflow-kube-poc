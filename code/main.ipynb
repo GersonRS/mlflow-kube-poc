{
 "cells": [
  {
   "cell_type": "code",
   "execution_count": null,
   "metadata": {
    "tags": []
   },
   "outputs": [],
   "source": [
    "# Install a conda package in the current Jupyter kernel\n",
    "import sys\n",
    "!conda install -c conda-forge --yes --prefix {sys.prefix} mlflow scikit-learn matplotlib seaborn pandas boto3 atom-ml[full] optuna"
   ]
  },
  {
   "cell_type": "markdown",
   "metadata": {},
   "source": [
    "## Desenvolvimento"
   ]
  },
  {
   "cell_type": "code",
   "execution_count": 1,
   "metadata": {
    "tags": []
   },
   "outputs": [],
   "source": [
    "#Importando as bibliotecas necessárias\n",
    "import sys\n",
    "import os\n",
    "import mlflow\n",
    "import mlflow.sklearn\n",
    "from urllib.parse import urlparse"
   ]
  },
  {
   "cell_type": "code",
   "execution_count": 16,
   "metadata": {
    "tags": []
   },
   "outputs": [],
   "source": [
    "os.environ['GIT_PYTHON_REFRESH']=\"quiet\""
   ]
  },
  {
   "cell_type": "code",
   "execution_count": 2,
   "metadata": {
    "tags": []
   },
   "outputs": [],
   "source": [
    "#Manipulação de dados\n",
    "import pandas as pd"
   ]
  },
  {
   "cell_type": "code",
   "execution_count": 4,
   "metadata": {
    "tags": []
   },
   "outputs": [],
   "source": [
    "# Pré-Processamento\n",
    "from sklearn.preprocessing import StandardScaler"
   ]
  },
  {
   "cell_type": "code",
   "execution_count": 5,
   "metadata": {
    "tags": []
   },
   "outputs": [],
   "source": [
    "# Criação do modelo\n",
    "from sklearn.model_selection import train_test_split\n",
    "from sklearn.neighbors import KNeighborsClassifier\n",
    "from sklearn.pipeline import Pipeline"
   ]
  },
  {
   "cell_type": "code",
   "execution_count": 6,
   "metadata": {
    "tags": []
   },
   "outputs": [],
   "source": [
    "#Métricas\n",
    "from sklearn.metrics import accuracy_score\n",
    "from sklearn.metrics import precision_score\n",
    "from sklearn.metrics import recall_score\n",
    "from sklearn.metrics import f1_score\n",
    "from sklearn.metrics import roc_auc_score\n",
    "from sklearn.metrics import classification_report\n",
    "from sklearn.metrics import confusion_matrix"
   ]
  },
  {
   "cell_type": "code",
   "execution_count": 7,
   "metadata": {
    "tags": []
   },
   "outputs": [],
   "source": [
    "#Ignorar avisos de atualização, etc\n",
    "import warnings\n",
    "warnings.filterwarnings(\"ignore\")"
   ]
  },
  {
   "cell_type": "code",
   "execution_count": 8,
   "metadata": {
    "tags": []
   },
   "outputs": [],
   "source": [
    "#Gráficos\n",
    "import seaborn as sns\n",
    "import matplotlib.pyplot as plt"
   ]
  },
  {
   "cell_type": "code",
   "execution_count": 9,
   "metadata": {
    "tags": []
   },
   "outputs": [],
   "source": [
    "import logging\n",
    "\n",
    "logging.basicConfig(level=logging.WARN)\n",
    "logger = logging.getLogger(__name__)"
   ]
  },
  {
   "cell_type": "code",
   "execution_count": 10,
   "metadata": {
    "tags": []
   },
   "outputs": [
    {
     "data": {
      "text/plain": [
       "<Experiment: artifact_location='s3://mlflow', creation_time=1691430246843, experiment_id='1', last_update_time=1691430246843, lifecycle_stage='active', name='poc', tags={}>"
      ]
     },
     "execution_count": 10,
     "metadata": {},
     "output_type": "execute_result"
    }
   ],
   "source": [
    "experiment = 'poc'\n",
    "# mlflow.set_tracking_uri(f\"http://{os.getenv('MLFLOW_TRACKING_URI')}:5000\")\n",
    "if mlflow.get_experiment_by_name(experiment) is None:\n",
    "    mlflow.create_experiment(experiment, artifact_location='s3://mlflow')\n",
    "mlflow.set_experiment(experiment_name=experiment)"
   ]
  },
  {
   "cell_type": "code",
   "execution_count": 11,
   "metadata": {
    "tags": []
   },
   "outputs": [],
   "source": [
    "tags = {\"Projeto\": \"Tutorial MLflow\", \"team\": \"Data Science\", \"dataset\": \"Wine\"}"
   ]
  },
  {
   "cell_type": "code",
   "execution_count": 12,
   "metadata": {
    "tags": []
   },
   "outputs": [],
   "source": [
    "def metricas(y_test, y_predict):\n",
    "    acuracia = accuracy_score(y_test, y_predict)\n",
    "    precision = precision_score(y_test, y_predict,average='weighted')\n",
    "    recall = recall_score(y_test, y_predict,average='weighted')\n",
    "    f1 = f1_score(y_test, y_predict,average='weighted')\n",
    "    return acuracia, precision, recall, f1\n",
    "\n",
    "def matriz_confusao(y_test, y_predict):\n",
    "    matriz_conf = confusion_matrix(y_test.values.ravel(), y_predict)\n",
    "    fig = plt.figure()\n",
    "    ax = plt.subplot()\n",
    "    sns.heatmap(matriz_conf, annot=True, cmap='Blues', ax=ax);\n",
    "\n",
    "    ax.set_xlabel('Valor Predito');\n",
    "    ax.set_ylabel('Valor Real'); \n",
    "    ax.set_title('Matriz de Confusão'); \n",
    "    ax.xaxis.set_ticklabels(['Classe 1', 'Classe 2', 'Classe 3']);\n",
    "    ax.yaxis.set_ticklabels(['Classe 1', 'Classe 2', 'Classe 3']);\n",
    "    plt.close()\n",
    "    return fig"
   ]
  },
  {
   "cell_type": "code",
   "execution_count": 13,
   "metadata": {
    "tags": []
   },
   "outputs": [],
   "source": [
    "df = pd.read_csv('data/wine.data', sep = ',',names=range(1, 15, 1))\n",
    "\n",
    "train, test = train_test_split(df, random_state=42)\n",
    "x_train = train.drop(columns=[1])\n",
    "x_test = test.drop(columns=[1])\n",
    "y_train = train[[1]]\n",
    "y_test = test[[1]]"
   ]
  },
  {
   "cell_type": "code",
   "execution_count": 17,
   "metadata": {
    "tags": []
   },
   "outputs": [
    {
     "name": "stderr",
     "output_type": "stream",
     "text": [
      "2023/08/07 17:54:53 WARNING mlflow.tracking.context.registry: Encountered unexpected error during resolving tags: 'getpwuid(): uid not found: 1001'\n"
     ]
    },
    {
     "name": "stdout",
     "output_type": "stream",
     "text": [
      "Número de Vizinhos: 3\n",
      "Acurácia: 0.9555555555555556\n",
      "Precision: 0.9586538461538462\n",
      "Recall: 0.9555555555555556\n",
      "F1-Score: 0.9550512333965844\n"
     ]
    }
   ],
   "source": [
    "with mlflow.start_run(run_name='KNeighborsClassifier'):\n",
    "    #Registro das tags\n",
    "    mlflow.set_tags(tags)\n",
    "\n",
    "    #Criação do modelo\n",
    "    n_vizinhos = 3\n",
    "    scaler = StandardScaler()\n",
    "    knn = KNeighborsClassifier(n_neighbors=n_vizinhos)\n",
    "    pipe = Pipeline([('scaler', StandardScaler()), ('knn', knn)])\n",
    "    pipe.fit(x_train, y_train)\n",
    "    #Predição dos valores de testes\n",
    "    y_pred_knn = pipe.predict(x_test)\n",
    "\n",
    "    #Métricas\n",
    "    acuracia, precision, recall, f1 = metricas(y_test, y_pred_knn)\n",
    "    print(\"Número de Vizinhos: {}\\nAcurácia: {}\\nPrecision: {}\\nRecall: {}\\nF1-Score: {}\".\n",
    "         format(n_vizinhos, acuracia, precision, recall, f1))\n",
    "    #Matriz de confusão\n",
    "    matriz_conf = matriz_confusao(y_test, y_pred_knn)\n",
    "    temp_name = \"confusion-matrix.png\"\n",
    "    matriz_conf.savefig(temp_name)\n",
    "    mlflow.log_artifact(temp_name, \"confusion-matrix-plots\")\n",
    "    try:\n",
    "        os.remove(temp_name)\n",
    "    except FileNotFoundError as e:\n",
    "        print(f\"{temp_name} file is not found\")\n",
    "\n",
    "    #Registro dos parâmetros e das métricas\n",
    "    mlflow.log_param(\"n_neighbors\", n_vizinhos)\n",
    "    mlflow.log_metric(\"Acuracia\", acuracia)\n",
    "    mlflow.log_metric(\"Precision\", precision)\n",
    "    mlflow.log_metric(\"Recall\", recall)\n",
    "    mlflow.log_metric(\"F1-Score\", f1)\n",
    "\n",
    "    #Registro do modelo\n",
    "    mlflow.sklearn.log_model(pipe, \"model\")\n",
    "    mlflow.log_artifact(local_path='./main.ipynb', artifact_path='code')\n"
   ]
  }
 ],
 "metadata": {
  "kernelspec": {
   "display_name": "Python 3 (ipykernel)",
   "language": "python",
   "name": "python3"
  },
  "language_info": {
   "codemirror_mode": {
    "name": "ipython",
    "version": 3
   },
   "file_extension": ".py",
   "mimetype": "text/x-python",
   "name": "python",
   "nbconvert_exporter": "python",
   "pygments_lexer": "ipython3",
   "version": "3.10.7"
  }
 },
 "nbformat": 4,
 "nbformat_minor": 4
}
